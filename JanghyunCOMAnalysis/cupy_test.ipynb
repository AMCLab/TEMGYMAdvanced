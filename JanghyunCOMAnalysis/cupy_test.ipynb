{
 "cells": [
  {
   "cell_type": "code",
   "execution_count": 10,
   "metadata": {},
   "outputs": [
    {
     "name": "stdout",
     "output_type": "stream",
     "text": [
      "Input Array: [ 1.  2.  3.  4.  5.  6.  7.  8.  9. 10.]\n",
      "Squared Array: [  1.   4.   9.  16.  25.  36.  49.  64.  81. 100.]\n"
     ]
    }
   ],
   "source": [
    "import cupy as cp\n",
    "from cp.fft import fft2, ifft2, fftshift\n",
    "\n",
    "# Create a sample array\n",
    "input_array = cp.arange(1, 11, dtype=cp.float32)\n",
    "\n",
    "# Define a kernel function that computes the square of each element\n",
    "@cp.fuse()\n",
    "def square_kernel(x):\n",
    "    return x * x\n",
    "\n",
    "# Parallelize the computation using CUDA\n",
    "output_array = square_kernel(input_array)\n",
    "\n",
    "# Print the results\n",
    "print(\"Input Array:\", input_array)\n",
    "print(\"Squared Array:\", output_array)\n",
    "\n",
    "x = cp.linspace(-0.4, 0.4, 128)\n",
    "y = cp.linspace(-0.4, 0.4, 128)\n",
    "\n",
    "\n",
    "wavelength = 1e-6\n",
    "shape = (128, 128)\n",
    "u = cp.ones(shape, dtype=cp.complex128)\n",
    "n = cp.ones(shape, dtype = cp.complex128) + cp.random.uniform(low = 1.0, high = 1.2, size = shape, dtype = cp.float64)\n",
    "k0 = cp.array(2 * cp.pi / wavelength, dtype=cp.float64)\n",
    "\n",
    "num_x = len(x)\n",
    "num_y = len(y)\n",
    "    \n",
    "dx = x[1] - x[0]\n",
    "kx = 2 * cp.pi / (num_x * dx) * (cp.arange(-int(num_x / 2), int(\n",
    "    num_x / 2)))\n",
    "\n",
    "dy = y[1] - y[0]\n",
    "ky = 2 * cp.pi / (num_y * dy) * (cp.arange(-int(num_y / 2), int(\n",
    "    num_y / 2)))\n",
    "\n",
    "KX, KY = cp.meshgrid(kx, ky)\n",
    "\n",
    "k_perp2 = KX**2 + KY**2\n",
    "\n",
    "dz = 0.01\n",
    " \n",
    "refraction_indexes = cp.unique(n)\n",
    "\n",
    "u_final = cp.zeros_like(u, dtype=complex)\n",
    "Ek = fftshift(fft2(u))\n",
    "\n",
    "for m, n_m in enumerate(refraction_indexes):\n",
    "    H = cp.exp(1j * dz * cp.sqrt(n**2 * k0**2 - k_perp2))\n",
    "    Imz = (n == n_m)\n",
    "    u_final = u_final + Imz * u_temp"
   ]
  }
 ],
 "metadata": {
  "kernelspec": {
   "display_name": "TEMGYMAdvanced",
   "language": "python",
   "name": "python3"
  },
  "language_info": {
   "codemirror_mode": {
    "name": "ipython",
    "version": 3
   },
   "file_extension": ".py",
   "mimetype": "text/x-python",
   "name": "python",
   "nbconvert_exporter": "python",
   "pygments_lexer": "ipython3",
   "version": "3.10.6"
  },
  "orig_nbformat": 4
 },
 "nbformat": 4,
 "nbformat_minor": 2
}
