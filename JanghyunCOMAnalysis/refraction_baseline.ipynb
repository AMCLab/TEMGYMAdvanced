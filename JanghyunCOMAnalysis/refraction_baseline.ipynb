{
 "cells": [
  {
   "cell_type": "markdown",
   "metadata": {},
   "source": [
    "Now we need to check if we can calculate the optical path length difference in a simplified potential to obtain the phase change in the electron wave. We then need to check if we can calculate the phase difference by integrating the potential our electron passes through. We will try and do this for an electron with a long wavelength so we can easily plot the wavelength and phase shift as the electron refracts through the potential. We will also try and use a simple linear potential. "
   ]
  },
  {
   "cell_type": "code",
   "execution_count": null,
   "metadata": {},
   "outputs": [],
   "source": [
    "import sympy as sp\n",
    "from sympy import Piecewise, DiracDelta\n",
    "from sympy.core.numbers import pi, oo\n",
    "from IPython.display import display\n",
    "from latex2sympy2 import latex2sympy\n",
    "import numpy as np\n",
    "import matplotlib.pyplot as plt\n",
    "%matplotlib widget\n"
   ]
  },
  {
   "cell_type": "markdown",
   "metadata": {},
   "source": [
    "Again set up constants and sympy symbols, and define the equation in sympy, and make a lambda function out of it."
   ]
  },
  {
   "cell_type": "code",
   "execution_count": null,
   "metadata": {},
   "outputs": [],
   "source": [
    "#Initialise printing\n",
    "sp.init_printing()\n",
    "\n",
    "#Create mathematical symbols\n",
    "x, y, z = sp.symbols('x y z', real = True)\n",
    "\n",
    "#Make a linear potential along the x axis\n",
    "phi_linear = -0.3*x \n",
    "\n",
    "#With a gaussian width of std 0.1 in the z-direction. This is so we can easily differentiate and integrate our potential\n",
    "phi_linear_gauss = -0.3*x*sp.exp(-z**2 / 0.1)\n",
    "\n",
    "#Perform the phase integral\n",
    "phase_integral = sp.integrate(phi_linear_gauss, (z, -oo, +oo))\n",
    "phase_integral_lambda = sp.lambdify(x, phase_integral)\n",
    "\n",
    "#Calculate the E-Field so we can plot it. \n",
    "Ex = -1*phi_linear_gauss.diff(x)\n",
    "Ey = -1*phi_linear_gauss.diff(y)\n",
    "Ez = -1*phi_linear_gauss.diff(z)\n",
    "\n",
    "phi_linear_lambda = sp.lambdify([x, y, z], phi_linear_gauss)\n",
    "E_lambda = sp.lambdify([x, y, z], [Ex, Ey, Ez], 'numpy')\n",
    "\n",
    "#Plot the linear potential\n",
    "sp.plot(phi_linear, (x, -2, 2))"
   ]
  },
  {
   "cell_type": "markdown",
   "metadata": {},
   "source": [
    "Plot the view of the electron as it moves towards the potential in the x-y plane. "
   ]
  },
  {
   "cell_type": "code",
   "execution_count": null,
   "metadata": {},
   "outputs": [],
   "source": [
    "z_ = np.linspace(-1, 1, 1000)\n",
    "plan_figure, plan_ax = plt.subplots()\n",
    "x_line, xstep = np.linspace(-1, 1, 300, retstep = True)\n",
    "y_line, ystep = np.linspace(-1, 1, 300, retstep = True)\n",
    "x_grid, y_grid = np.meshgrid(x_line, y_line)\n",
    "z_grid = 0*np.ones(x_grid.shape)\n",
    "\n",
    "potential_image = phi_linear_lambda(x_grid, y_grid, 0)\n",
    "plan_ax.imshow(potential_image, extent=[-1, 1, -1, 1])\n",
    "plan_ax.contour(potential_image, 25, linewidths = 0.25, colors = 'k', extent = [-1, 1, -1, 1], origin = 'upper')\n",
    "plan_ax.set_title('Wire Potential Plan View')\n",
    "plan_ax.set_xlabel('x (m)')\n",
    "plan_ax.set_ylabel('y (m)')"
   ]
  },
  {
   "cell_type": "markdown",
   "metadata": {},
   "source": [
    "Plot a side view of the potential "
   ]
  },
  {
   "cell_type": "code",
   "execution_count": null,
   "metadata": {},
   "outputs": [],
   "source": [
    "zx_figure, zx_ax = plt.subplots()\n",
    "z_line, zstep = np.linspace(-1, 1, 51, retstep = True)\n",
    "x_line, xstep = np.linspace(-1, 1, 51, retstep = True)\n",
    "z_grid, x_grid = np.meshgrid(x_line, z_line)\n",
    "y_grid = 0*np.ones(x_grid.shape)\n",
    "potential_image = phi_linear_lambda(x_grid, y_grid, z_grid)\n",
    "zx_ax.imshow(potential_image, extent=[-1, 1, -1, 1], origin = 'upper')\n",
    "zx_ax.set_title('Wire Potential Side View')\n",
    "zx_ax.set_xlabel('z (m)')\n",
    "zx_ax.set_ylabel('x (m)')"
   ]
  },
  {
   "cell_type": "markdown",
   "metadata": {},
   "source": [
    "Plot the E-Fields"
   ]
  },
  {
   "cell_type": "code",
   "execution_count": null,
   "metadata": {},
   "outputs": [],
   "source": [
    "Ex_figure, Ex_ax = plt.subplots()\n",
    "Ez_line, Ezstep = np.linspace(-1, 1, 51, retstep = True)\n",
    "Ex_line, Exstep = np.linspace(-1, 1, 51, retstep = True)\n",
    "Ez_grid, Ex_grid = np.meshgrid(Ex_line, Ez_line)\n",
    "Ey_grid = 0*np.ones(Ex_grid.shape)\n",
    "efield_image = E_lambda(Ex_grid, Ey_grid, Ez_grid)[0]\n",
    "Ex_ax.imshow(efield_image, extent=[-1, 1, -1, 1], origin = 'upper')\n",
    "Ex_ax.set_title('Ex')\n",
    "Ex_ax.set_xlabel('z (m)')\n",
    "Ex_ax.set_ylabel('x (m)')\n",
    "\n",
    "Ez_figure, Ez_ax = plt.subplots()\n",
    "Ez_line, Ezstep = np.linspace(-1, 1, 51, retstep = True)\n",
    "Ex_line, Exstep = np.linspace(-1, 1, 51, retstep = True)\n",
    "Ez_grid, Ex_grid = np.meshgrid(Ex_line, Ez_line)\n",
    "Ey_grid = 0*np.ones(Ex_grid.shape)\n",
    "efield_image = E_lambda(Ex_grid, Ey_grid, Ez_grid)[2]\n",
    "Ez_ax.imshow(efield_image, extent=[-1, 1, -1, 1], origin = 'upper')\n",
    "Ez_ax.set_title('Ez')\n",
    "Ez_ax.set_xlabel('z (m)')\n",
    "Ez_ax.set_ylabel('x (m)')"
   ]
  },
  {
   "cell_type": "markdown",
   "metadata": {},
   "source": [
    "Again make our ODE solver equation"
   ]
  },
  {
   "cell_type": "code",
   "execution_count": null,
   "metadata": {},
   "outputs": [],
   "source": [
    "def odedopri(f,  x0,  y0,  x1,  tol,  hmax,  hmin,  maxiter, args=()):\n",
    "    a21 = (1.0/5.0)\n",
    "    a31 = (3.0/40.0)\n",
    "    a32 = (9.0/40.0)\n",
    "    a41 = (44.0/45.0)\n",
    "    a42 = (-56.0/15.0)\n",
    "    a43 = (32.0/9.0)\n",
    "    a51 = (19372.0/6561.0)\n",
    "    a52 = (-25360.0/2187.0)\n",
    "    a53 = (64448.0/6561.0)\n",
    "    a54 = (-212.0/729.0)\n",
    "    a61 = (9017.0/3168.0)\n",
    "    a62 = (-355.0/33.0)\n",
    "    a63 = (46732.0/5247.0)\n",
    "    a64 = (49.0/176.0)\n",
    "    a65 = (-5103.0/18656.0)\n",
    "    a71 = (35.0/384.0)\n",
    "    a72 = (0.0)\n",
    "    a73 = (500.0/1113.0)\n",
    "    a74 = (125.0/192.0)\n",
    "    a75 = (-2187.0/6784.0)\n",
    "    a76 = (11.0/84.0)\n",
    "    c2 = (1.0 / 5.0)\n",
    "    c3 = (3.0 / 10.0)\n",
    "    c4 = (4.0 / 5.0)\n",
    "    c5 = (8.0 / 9.0)\n",
    "    c6 = (1.0)\n",
    "    c7 = (1.0)\n",
    "    b1 = (35.0/384.0)\n",
    "    b2 = (0.0)\n",
    "    b3 = (500.0/1113.0)\n",
    "    b4 = (125.0/192.0)\n",
    "    b5 = (-2187.0/6784.0)\n",
    "    b6 = (11.0/84.0)\n",
    "    b7 = (0.0)\n",
    "    b1p = (5179.0/57600.0)\n",
    "    b2p = (0.0)\n",
    "    b3p = (7571.0/16695.0)\n",
    "    b4p = (393.0/640.0)\n",
    "    b5p = (-92097.0/339200.0)\n",
    "    b6p = (187.0/2100.0)\n",
    "    b7p = (1.0/40.0)\n",
    "    x = x0\n",
    "    y = y0\n",
    "    h = hmax\n",
    "    X = np.zeros(maxiter)\n",
    "    X[0] = x0\n",
    "    Y = np.zeros((maxiter, len(y0)))\n",
    "    Y[0] = y0\n",
    "    \n",
    "    #We need a special step counter because the ODE dormand prince \n",
    "    #method will do a step again with a smaller step size if the error is too large\n",
    "    step = 1\n",
    "    for i in range(maxiter):\n",
    "       # /* Compute the function values */\n",
    "       K1 = f(x,       y, *args)\n",
    "       K2 = f(x + c2*h, y+h*(a21*K1), *args)\n",
    "       K3 = f(x + c3*h, y+h*(a31*K1+a32*K2), *args)\n",
    "       K4 = f(x + c4*h, y+h*(a41*K1+a42*K2+a43*K3), *args)\n",
    "       K5 = f(x + c5*h, y+h*(a51*K1+a52*K2+a53*K3+a54*K4), *args)\n",
    "       K6 = f(x + h, y+h*(a61*K1+a62*K2+a63*K3+a64*K4+a65*K5), *args)\n",
    "       K7 = f(x + h, y+h*(a71*K1+a72*K2+a73*K3+a74*K4+a75*K5+a76*K6), *args)\n",
    "       error = abs((b1-b1p)*K1+(b3-b3p)*K3+(b4-b4p)*K4+(b5-b5p)*K5 +\n",
    "                   (b6-b6p)*K6+(b7-b7p)*K7)\n",
    "       #Error in X controls tolerance\n",
    "       error = max(error)\n",
    "       # error control\n",
    "       if error != 0.0:\n",
    "           delta = 0.84 * pow(tol / error, (1.0/5.0))\n",
    "       else:\n",
    "           delta = np.inf\n",
    "       if (error < tol):\n",
    "          x = x + h\n",
    "          X[step] = x\n",
    "          y = y + h * (b1*K1+b3*K3+b4*K4+b5*K5+b6*K6)\n",
    "          Y[step, :] = y\n",
    "          step+=1\n",
    "       if (delta <= 0.1):\n",
    "          h = h * 0.1\n",
    "       elif (delta >= 4.0):\n",
    "          h = h * 4.0\n",
    "       else:\n",
    "          h = delta * h\n",
    "       if (h > hmax):\n",
    "          h = hmax\n",
    "       if (x >= x1):\n",
    "          print('reached end')\n",
    "          break\n",
    "       elif (x + h > x1):\n",
    "          h = x1 - x\n",
    "       elif (h < hmin):\n",
    "          print('Below hmin')\n",
    "          break\n",
    "    return X, Y, step"
   ]
  },
  {
   "cell_type": "markdown",
   "metadata": {},
   "source": [
    "And make our potential function that we need to put into our ODE solver"
   ]
  },
  {
   "cell_type": "code",
   "execution_count": null,
   "metadata": {},
   "outputs": [],
   "source": [
    "def make_potential_and_efield(phi, phi_0, x, y, z, eps):\n",
    "    \n",
    "    phi_hat = (phi)*(1+eps*(phi))\n",
    "    \n",
    "    #Include the initial potential of the electron from the gun. \n",
    "    phi_hat_wires_electron = phi_0 - phi_hat\n",
    "    \n",
    "    #Get E field function. Notice there is no negative sign, as the way hawkes uses phi_hat, there is no minus before it (Equation 3.22).\n",
    "    dphi_hat_wires_electron_dx = phi_hat_wires_electron.diff(x)\n",
    "    dphi_hat_wires_electron_dy = phi_hat_wires_electron.diff(y)\n",
    "    dphi_hat_wires_electron_dz = phi_hat_wires_electron.diff(z)\n",
    "\n",
    "    phi_hat_wires_electron_lambda = sp.lambdify([x, y, z], phi_hat_wires_electron, 'numpy')\n",
    "    dphi_hat_wires_electron_lambda = sp.lambdify([x, y, z], [dphi_hat_wires_electron_dx, dphi_hat_wires_electron_dy, dphi_hat_wires_electron_dz], 'numpy')\n",
    "    \n",
    "    return phi_hat_wires_electron_lambda, dphi_hat_wires_electron_lambda"
   ]
  },
  {
   "cell_type": "markdown",
   "metadata": {},
   "source": [
    "Define constants. For now we are going to give every physical constant a value of 1. This is so we don't have to worry about running into numerical precision errors. Later we will have to worry about numerical errors, but let's just ignore it for now by keeping everything at a value of 1. "
   ]
  },
  {
   "cell_type": "code",
   "execution_count": null,
   "metadata": {},
   "outputs": [],
   "source": [
    "e = -1#-1.60217662e-19 #unit C\n",
    "m = 1#9.10938356e-31 #unit kg\n",
    "h = 1#6.62607015e-34 #unit J . s \n",
    "c_l = 1#2.99792458e8 #unit m/s\n",
    "eps_0_val = 1#8.85418782e-12 #permittivity unit F/m\n",
    "\n",
    "#Define acceleration potential of electron\n",
    "phi_0 = 0.125 #unit V\n",
    "\n",
    "#Other constants which we will need later, but are irrelevant now. \n",
    "v_0 = c_l*(1-(1-(e*phi_0)/(m*(c_l**2)))**(-2))**(1/2) #unit m/s\n",
    "eta = (abs(e)/(2*m))**(1/2) #Constant from Hawkes\n",
    "gamma = 1/(1-(v_0**2/c_l**2))**(1/2) #Gamma factor\n",
    "eps = abs(e)/(2*m*c_l**2) #eps as defined in Hawkes, different from the permittivity of free space. "
   ]
  },
  {
   "cell_type": "markdown",
   "metadata": {},
   "source": [
    "Trajectory equation of motion from Hawkes"
   ]
  },
  {
   "cell_type": "code",
   "execution_count": null,
   "metadata": {},
   "outputs": [],
   "source": [
    "def trajectory_equation_of_motion(z, x, phi_hat_lambda, dphi_hat_lambda):\n",
    "    \n",
    "    p = np.sqrt(1+x[1]**2+x[3]**2) #obtain slope of ray\n",
    "    phi_hat = phi_hat_lambda(x[0], x[2], z) #evaluate potential\n",
    "    dphi_hat_x, dphi_hat_y, dphi_hat_z = dphi_hat_lambda(x[0], x[2], z) #evaluate the efield\n",
    "    \n",
    "    return np.array([x[1], (p**2)/(2*phi_hat)*(dphi_hat_x-x[1]*dphi_hat_z), x[3], (p**2)/(2*phi_hat)*(dphi_hat_y-x[3]*dphi_hat_z)]) #evaluate the velocities and accelerations, [vx, ax, vy, ay]"
   ]
  },
  {
   "cell_type": "code",
   "execution_count": null,
   "metadata": {},
   "outputs": [],
   "source": [
    "phi_hat_lambda, dphi_hat_lambda = make_potential_and_efield(phi_linear_gauss, phi_0, x, y, z, eps)"
   ]
  },
  {
   "cell_type": "markdown",
   "metadata": {},
   "source": [
    "Perform ray tracing. "
   ]
  },
  {
   "cell_type": "code",
   "execution_count": null,
   "metadata": {},
   "outputs": [],
   "source": [
    "x0 = np.array([0, 0, 0, 0]) #x, x', y, y'\n",
    "z0 = -1 #Initial z plane\n",
    "zF = 1 #Final z plane\n",
    "\n",
    "tol = 1e-12 #error tolerance in the calculation (error in force or velocity on one axis is no larger than tolerance)\n",
    "max_step_size = 1e-3 #m\n",
    "min_step_size = 1e-15 #m\n",
    "z_out, x_out, steps = odedopri(trajectory_equation_of_motion,  z0,  x0,  zF,  tol ,  max_step_size,  min_step_size,  10000, args=(phi_hat_lambda, dphi_hat_lambda))\n",
    "\n",
    "x, y, z = x_out[:steps, 0], x_out[:steps, 0], z_out[:steps]\n",
    "wavelengths = h/(2*abs(e)*m*phi_hat_lambda(x, y, z))**(1/2)\n",
    "\n",
    "#Make a list of wavelengths that are normalised so we can color them. \n",
    "wavelengths_norm = (wavelengths-min(wavelengths))/(max(wavelengths)-min(wavelengths))\n",
    "colors = plt.cm.jet(wavelengths_norm)\n"
   ]
  },
  {
   "cell_type": "markdown",
   "metadata": {},
   "source": [
    "Plot path of ray in z-y (ray should not see any deflection) and z-x plane (ray should be deflected significantly)"
   ]
  },
  {
   "cell_type": "code",
   "execution_count": null,
   "metadata": {},
   "outputs": [],
   "source": [
    "plt.figure()\n",
    "plt.plot(z_out[:steps], x_out[:steps, 0])\n",
    "plt.title('Ray path through wires (wires located around z=0)')\n",
    "plt.xlabel('z (m)')\n",
    "plt.ylabel('x (m)')\n",
    "\n",
    "print('X positional deflection (m):', abs(x_out[0, 0]-x_out[steps-1, 0]))\n",
    "print('Y positional deflection (m):', abs(x_out[0, 2]-x_out[steps-1, 2]))\n",
    "\n"
   ]
  },
  {
   "cell_type": "markdown",
   "metadata": {},
   "source": [
    "Plot the \"wavelength\" of the electron as it moves through the potential. For now I have not been too carful about the sign of every value sign, but I will have to consider it again later. Now I just need to check if I can calculate a phase difference. "
   ]
  },
  {
   "cell_type": "code",
   "execution_count": null,
   "metadata": {},
   "outputs": [],
   "source": [
    "plt.figure()\n",
    "plt.title('Wavelength of Electron as it moves through potential')\n",
    "plt.xlabel('z (m)')\n",
    "plt.ylabel('$\\lambda$ (m)')\n",
    "plt.plot(z, wavelengths)\n"
   ]
  },
  {
   "cell_type": "markdown",
   "metadata": {},
   "source": [
    "Check what the wavelength is - I have tried to set it so that it is 2.0 at the beginning, which makes it easier for us to check if our path length calculation is correct."
   ]
  },
  {
   "cell_type": "code",
   "execution_count": null,
   "metadata": {},
   "outputs": [],
   "source": [
    "print(wavelengths[0])"
   ]
  },
  {
   "cell_type": "markdown",
   "metadata": {},
   "source": [
    "Now we need to perform the optical path length calculation. I will keep this simple, and only solve the basic optical path length integral: "
   ]
  },
  {
   "cell_type": "code",
   "execution_count": null,
   "metadata": {},
   "outputs": [],
   "source": [
    "from scipy.integrate import simpson\n",
    "def optical_path_length(x, y, z, phi_hat_lambda):\n",
    "    \n",
    "    deltax, deltay, deltaz = np.diff(x), np.diff(y), np.diff(z) #get the differences between each coordinate\n",
    "    s = np.cumsum(np.pad(np.sqrt(deltax**2+deltay**2+deltaz**2), (1, 0), \"constant\")) #path length calculation, with 0 appended to the start\n",
    "    n = np.sqrt(2*phi_hat_lambda(x, y, z))\n",
    "    opl_n = simpson(n, s)\n",
    "    \n",
    "    return s, n, opl_n\n",
    "\n",
    "s, n, opl_n = optical_path_length(x_out[:steps, 0], x_out[:steps, 2], z_out[:steps], phi_hat_lambda)\n",
    "%timeit simpson(n, s)\n",
    "print(opl_n)\n",
    "\n",
    "plt.figure()\n",
    "plt.xlabel('Path Length (s) (m)')\n",
    "plt.ylabel('Refractive Index (n) - No Unit')\n",
    "plt.plot(s, n, '-g')"
   ]
  },
  {
   "cell_type": "markdown",
   "metadata": {},
   "source": [
    "Calculate the phase difference using the optical path length calculation of the deflected ray. "
   ]
  },
  {
   "cell_type": "code",
   "execution_count": null,
   "metadata": {},
   "outputs": [],
   "source": [
    "#Calculate optical path length of ray that has not been through the wire, and still has the original wavelength\n",
    "z_starting_at_0 = z+abs(z[-1])\n",
    "opl_one = abs(z_starting_at_0[-1]-z_starting_at_0[0])*(1/wavelengths[0])\n",
    "\n",
    "''\n",
    "phase_difference = ((2*np.pi)*(opl_n - opl_one))/wavelengths[0]\n",
    "print(phase_difference)"
   ]
  },
  {
   "cell_type": "markdown",
   "metadata": {},
   "source": [
    "I am not sure if a phase difference of 0.51146... radians is correct, but it's about one tenth of a full wavelength, and after we plot it below it seems reasonable. "
   ]
  },
  {
   "cell_type": "code",
   "execution_count": null,
   "metadata": {},
   "outputs": [],
   "source": [
    "plt.figure()\n",
    "z0 = np.linspace(z_starting_at_0[0], z_starting_at_0[-1], 1000)\n",
    "plt.plot(z0, np.sin(2 * np.pi * 1/wavelengths[0] * z0 ), color = colors[0], linewidth = 5, alpha = 0.2, label = 'Unrefracted Ray')\n",
    "plt.plot([], [], '--', label = 'Refracted Ray', color = colors[0])\n",
    "plt.xlabel('Path Length (s) (m)')\n",
    "plt.ylabel('Amplitude of Ray Path - No Unit')\n",
    "plt.title(\"Wavelength of Rays throughout the path\" \n",
    "          \"\\n\"\n",
    "          \"Color of refracted ray corresponds to a change in wavelength\")\n",
    "\n",
    "for idx, wavelength in enumerate(wavelengths[:-1]):\n",
    "    s_idx = np.linspace(s[idx], s[idx+1], 100)\n",
    "    plt.plot(s_idx, np.sin(2 * np.pi * 1/wavelengths[idx] * s_idx), color = colors[idx], linestyle = '--')\n",
    "    \n",
    "plt.legend()\n",
    "plt.xlim([0, 2.5])\n"
   ]
  },
  {
   "cell_type": "markdown",
   "metadata": {},
   "source": [
    "The plot above shows the path length of the ray through the wire model, and the path length of an \"unrefracted\" ray that moves unperturbed through the system. Both rays end up in the same plane in z, but you can see that the refracted ray has been \"phase shifted\" because it's wavelength has changed, and because it has travelled a longer path to the same z-plane. Next thing to do is to check if we can still calculate this when we reintroduce the physical constants. I am wary about this because compare this phase shift to a multislice calculation, and also Giulio Pozzi's analytical model. Then we can try and plot many rays, and see if we can visualise a complete phase image of this potential. Then we can translate it to the wire model. "
   ]
  },
  {
   "cell_type": "markdown",
   "metadata": {},
   "source": [
    "I am worried about the numerical precision of this current method, as when we rescale it with physical values, a lot of values will be very small such as the wavelength and we may end up going beyond machine precision when we try and calculate the optical path length. There are a number of things to try.\n",
    "\n",
    "1. Non-dimensionalise the equation of motion, so as many parameters as possible are near 1. This is possible, but could be time consuming.\n",
    "2. Solve the equation of motion with a DOP853 method from scipy (7th order method), which should give us a very accurate estimate of the path. We can then use the interpolation method from scipy\n",
    "   to help us solve the path length integral extremely accurately. \n",
    "3. Another option is to explore how to solve the path length integral analytically, which should be able to give us the optical path length for any path we solve for numerically. I have a feeling that if I understood more, I could get a generalised expression for the phase of a ray after it passes through the model, and then much of these numerical solutions would be unneccessary. It all relates to a calculation of the path integral S (aka optical path length), where wavefronts are defined where S is a constant along the path. "
   ]
  },
  {
   "cell_type": "markdown",
   "metadata": {},
   "source": [
    "3: Let's have a look first at solving analytically some of the equations in this notebook. It might be possible to find the path integral equation S for this simplified system, which will give me the optical path length directly after I solve for the particle path numerically. This way we avoid solving the path integral numerically. "
   ]
  },
  {
   "cell_type": "code",
   "execution_count": 255,
   "metadata": {},
   "outputs": [
    {
     "data": {
      "image/png": "[encoded data removed]",
      "text/latex": [
       "$\\displaystyle dz$"
      ],
      "text/plain": [
       "dz"
      ]
     },
     "metadata": {},
     "output_type": "display_data"
    },
    {
     "data": {
      "image/png": "[encoded data removed]",
      "text/latex": [
       "$\\displaystyle \\int\\limits_{s_{0}}^{s_{1}} 0.774596669241483 \\sqrt{- x \\left(- 0.15 x e^{- 10.0 z^{2}} + 1\\right)} e^{- 5.0 z^{2}}\\, ds$"
      ],
      "text/plain": [
       "s₁                                                                \n",
       "⌠                                                                 \n",
       "⎮                        _____________________________            \n",
       "⎮                       ╱    ⎛                 2    ⎞         2   \n",
       "⎮                      ╱     ⎜          -10.0⋅z     ⎟   -5.0⋅z    \n",
       "⎮  0.774596669241483⋅╲╱   -x⋅⎝- 0.15⋅x⋅ℯ         + 1⎠ ⋅ℯ        ds\n",
       "⌡                                                                 \n",
       "s₀                                                                "
      ]
     },
     "metadata": {},
     "output_type": "display_data"
    },
    {
     "data": {
      "image/png": "[encoded data removed]",
      "text/latex": [
       "$\\displaystyle 0.774596669241483 \\sqrt{x \\left(0.15 x - e^{10.0 z^{2}}\\right)} \\left(- s_{0} + s_{1}\\right) e^{- 10.0 z^{2}}$"
      ],
      "text/plain": [
       "                      _______________________                     \n",
       "                     ╱   ⎛                2⎞                     2\n",
       "                    ╱    ⎜          10.0⋅z ⎟              -10.0⋅z \n",
       "0.774596669241483⋅╲╱   x⋅⎝0.15⋅x - ℯ       ⎠ ⋅(-s₀ + s₁)⋅ℯ        "
      ]
     },
     "metadata": {},
     "output_type": "display_data"
    },
    {
     "data": {
      "image/png": "[encoded data removed]",
      "text/latex": [
       "$\\displaystyle 0.695409879155538 \\left(- s_{0} + s_{1}\\right) \\left(e^{10.0 z^{2}} + 0.12089872500678\\right)^{0.5} e^{- 10.0 z^{2}}$"
      ],
      "text/plain": [
       "                                                          0.5          \n",
       "                             ⎛       2                   ⎞            2\n",
       "                             ⎜ 10.0⋅z                    ⎟     -10.0⋅z \n",
       "0.695409879155538⋅(-s₀ + s₁)⋅⎝ℯ        + 0.12089872500678⎠   ⋅ℯ        "
      ]
     },
     "execution_count": 255,
     "metadata": {},
     "output_type": "execute_result"
    }
   ],
   "source": [
    "x, y, z, s, s0, s1, dz = sp.symbols('x y z s s_0, s_1 dz', real = True)\n",
    "\n",
    "x_prime = sp.Derivative(x, z, 1)\n",
    "y_prime = sp.Derivative(y, z, 1)\n",
    "\n",
    "rho = x_prime**2+y_prime**2+1\n",
    "\n",
    "phi_hat = (phi_linear_gauss)*(1+eps*(phi_linear_gauss))\n",
    "S_hat = sp.Integral(sp.sqrt(2 *phi_hat), (s, s0, s1))\n",
    "\n",
    "display((rho*dz).simplify())\n",
    "display(S_hat)\n",
    "\n",
    "action = S_hat.doit().simplify()\n",
    "display(action)\n",
    "action.subs({x:-0.8059915000452004, z0:-1, z1:1}).doit().evalf()\n",
    "\n"
   ]
  },
  {
   "cell_type": "code",
   "execution_count": 261,
   "metadata": {},
   "outputs": [
    {
     "data": {
      "image/png": "[encoded data removed]",
      "text/latex": [
       "$\\displaystyle \\int\\limits_{z_{0}}^{z_{1}}\\int\\limits_{x_{0}}^{x_{1}} 0.774596669241483 \\sqrt{- x} e^{- 5.0 z^{2}}\\, dx\\, dz$"
      ],
      "text/plain": [
       "z₁ x₁                                        \n",
       "⌠  ⌠                                         \n",
       "⎮  ⎮                                  2      \n",
       "⎮  ⎮                      ____  -5.0⋅z       \n",
       "⎮  ⎮  0.774596669241483⋅╲╱ -x ⋅ℯ        dx dz\n",
       "⌡  ⌡                                         \n",
       "z₀ x₀                                        "
      ]
     },
     "metadata": {},
     "output_type": "display_data"
    },
    {
     "data": {
      "image/png": "[encoded data removed]",
      "text/latex": [
       "$\\displaystyle - 0.115470053837925 \\sqrt{\\pi} \\left(- x_{0}\\right)^{\\frac{3}{2}} \\operatorname{erf}{\\left(2.23606797749979 z_{0} \\right)} + 0.115470053837925 \\sqrt{\\pi} \\left(- x_{0}\\right)^{\\frac{3}{2}} \\operatorname{erf}{\\left(2.23606797749979 z_{1} \\right)} + 0.115470053837925 \\sqrt{\\pi} \\left(- x_{1}\\right)^{\\frac{3}{2}} \\operatorname{erf}{\\left(2.23606797749979 z_{0} \\right)} - 0.115470053837925 \\sqrt{\\pi} \\left(- x_{1}\\right)^{\\frac{3}{2}} \\operatorname{erf}{\\left(2.23606797749979 z_{1} \\right)}$"
      ],
      "text/plain": [
       "                            3/2                                               \n",
       "- 0.115470053837925⋅√π⋅(-x₀)   ⋅erf(2.23606797749979⋅z₀) + 0.115470053837925⋅√\n",
       "\n",
       "       3/2                                                      3/2           \n",
       "π⋅(-x₀)   ⋅erf(2.23606797749979⋅z₁) + 0.115470053837925⋅√π⋅(-x₁)   ⋅erf(2.2360\n",
       "\n",
       "                                           3/2                         \n",
       "6797749979⋅z₀) - 0.115470053837925⋅√π⋅(-x₁)   ⋅erf(2.23606797749979⋅z₁)"
      ]
     },
     "execution_count": 261,
     "metadata": {},
     "output_type": "execute_result"
    }
   ],
   "source": [
    "import sympy as sp\n",
    "\n",
    "dx, dy, dz = sp.symbols('dx dy dz')\n",
    "x, y, z, x0, x1, z0, z1 = sp.symbols('x y z x_0 x_1 z_0 z_1', real = True)\n",
    "\n",
    "phi_hat = (phi_linear_gauss)#*(1+eps*(phi_linear_gauss))\n",
    "n = sp.sqrt(2*phi_hat) # Define your scalar field\n",
    "ds = sp.sqrt(dx**2 + dy**2 + dz**2)\n",
    "\n",
    "S = sp.Integral(n, (x, x0, x1), (z, z0, z1))\n",
    "display(S)\n",
    "action = S.doit().simplify()\n",
    "action.subs({x:-0.8059915000452004, z0:-1, z1:1}).doit().evalf()\n"
   ]
  }
 ],
 "metadata": {
  "kernelspec": {
   "display_name": "TEMGYMAdvanced",
   "language": "python",
   "name": "python3"
  },
  "language_info": {
   "codemirror_mode": {
    "name": "ipython",
    "version": 3
   },
   "file_extension": ".py",
   "mimetype": "text/x-python",
   "name": "python",
   "nbconvert_exporter": "python",
   "pygments_lexer": "ipython3",
   "version": "3.11.3"
  },
  "orig_nbformat": 4
 },
 "nbformat": 4,
 "nbformat_minor": 2
}
