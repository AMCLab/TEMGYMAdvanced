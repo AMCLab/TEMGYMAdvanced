{
 "cells": [
  {
   "cell_type": "code",
   "execution_count": 11,
   "metadata": {},
   "outputs": [],
   "source": [
    "from diffractio import degrees, mm, plt, sp, um, np\n",
    "from diffractio.scalar_masks_X import Scalar_mask_X\n",
    "from diffractio.scalar_masks_XZ import Scalar_mask_XZ\n",
    "from diffractio.scalar_sources_X import Scalar_source_X\n",
    "from diffractio.utils_math import get_k\n",
    "from numpy.lib.scimath import sqrt as csqrt\n",
    "\n",
    "from scipy.constants import c, epsilon_0, e, m_e, h\n",
    "import numpy as np\n",
    "import sympy as sp\n",
    "\n",
    "from sympy.core.numbers import pi\n",
    "from IPython.display import display\n",
    "import numba\n",
    "from numbalsoda import dop853, lsoda, lsoda_sig\n",
    "from numba import njit, cfunc\n",
    "\n",
    "%matplotlib widget\n"
   ]
  },
  {
   "cell_type": "markdown",
   "metadata": {},
   "source": [
    "Here we ware going to use a light optics package to calculate the path of the electron. We can do this because in purely electrostatic systems, there is an electrostatic analogue of snells law. We can use this to test if the optical path length calculations of our ray tracing model actually work. We will test it again at a scale that for now is not physically accurate. If our ray tracing model recreates the fringe spacing, then we know that our optical path length calculations will work. "
   ]
  },
  {
   "cell_type": "code",
   "execution_count": 17,
   "metadata": {},
   "outputs": [],
   "source": [
    "X, Y, Z = sp.symbols('X Y Z')\n",
    "\n",
    "#Use scipy's constants\n",
    "e = e #-1.60217662e-19 #unit C\n",
    "m = m_e #9.10938356e-31 #unit kg\n",
    "h_planck = h #6.62607015e-34 #unit J . s \n",
    "c_l = c #2.99792458e8 #unit m/s\n",
    "eps_0_val = epsilon_0 #8.85418782e-12 #permittivity unit F/m\n",
    "#eps = abs(e)/(2*m*c_l**2) #eps as defined in Hawkes, different from the permittivity of free space. \n",
    "\n",
    "#Set initial accelerating voltage. I know it's unrealistic but it gives an output that is easy to plot for now.\n",
    "phi_0 = 0.5\n",
    "\n",
    "#Calculate corresponding wavelength of the electron, and divide by 1e-6 so that everything is scaled around the micron unit (this is for the diffractio package)\n",
    "wavelength = h/(2*abs(e)*m*phi_0)**(1/2)/1e-6\n",
    "\n",
    "#Set voltage of biprism\n",
    "V = 0.1\n",
    "\n",
    "#Set radius of biprism wire\n",
    "r = 0.125e-6/1e-6\n",
    "\n",
    "#Set radius of the condenser surrounding the wire\n",
    "R = 1e-5/1e-6\n",
    "\n",
    "phi_biprism = V*(sp.log((X*X+(Z)**2)/(R**2)))/(2*sp.log(r/R))\n",
    "\n",
    "#Here we write the \"refractive index\" that the electron would see, using the equation for the electrostatic potential. See Eq 5.17 in Hawkes Principles of Electron Optics\n",
    "n_eq1 = (1+phi_biprism/phi_0)**(0.5)\n",
    "n_eq1_lambda = sp.lambdify([X, Z], n_eq1)\n",
    "\n",
    "n_eq2 = (2*m*abs(e)*(phi_0-phi_biprism))**(0.5)\n",
    "\n",
    "\n",
    "#The equation needs to be written as a string for diffractio to be able to implement it, and we need to replace log with np.log in the expression.\n",
    "#This is because diffractio uses the \"eval\" function which uses a string to form the function.\n",
    "n = str(n_eq1).replace(\"log\", \"np.log\")\n",
    "\n",
    "#Set up the scale in x and z\n",
    "x0 = np.linspace(-0.4 * um, 0.4 * um, 1024 * 1)\n",
    "z0 = np.linspace(-2 * um, 0 * um, 1024 * 1)\n",
    "xx0, zz0 = np.meshgrid(x0, z0)\n",
    "kx = get_k(x0)\n",
    "k_perp2 = kx**2\n",
    "\n",
    "\n",
    "\n"
   ]
  },
  {
   "cell_type": "code",
   "execution_count": 21,
   "metadata": {},
   "outputs": [
    {
     "name": "stdout",
     "output_type": "stream",
     "text": [
      "0.0\n"
     ]
    }
   ],
   "source": [
    "print(np.min(abs(xx0)))"
   ]
  },
  {
   "cell_type": "code",
   "execution_count": 30,
   "metadata": {},
   "outputs": [
    {
     "data": {
      "application/vnd.jupyter.widget-view+json": {
       "model_id": "c36b4be943fb40b685619edceda7f7d1",
       "version_major": 2,
       "version_minor": 0
      },
      "image/png": "[encoded data removed]",
      "text/html": [
       "\n",
       "            <div style=\"display: inline-block;\">\n",
       "                <div class=\"jupyter-widgets widget-label\" style=\"text-align: center;\">\n",
       "                    Figure\n",
       "                </div>\n",
       "                <img src='data:image/png;base64,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' width=640.0/>\n",
       "            </div>\n",
       "        "
      ],
      "text/plain": [
       "Canvas(toolbar=Toolbar(toolitems=[('Home', 'Reset original view', 'home', 'home'), ('Back', 'Back to previous …"
      ]
     },
     "metadata": {},
     "output_type": "display_data"
    }
   ],
   "source": [
    "n_eval = n_eq1_lambda(xx0, zz0)\n",
    "n_eval = np.complex128(n_eval)\n",
    "n_eval[np.where(np.sqrt(xx0**2 + zz0**2)<=r)] = 0.0 + 2.0j\n",
    "#delta_n = n_eq1_lambda(xx0, zz0)\n",
    "\n",
    "plt.figure()\n",
    "extension = [z0[0], z0[-1], x0[0], x0[-1]]\n",
    "        \n",
    "h1 = plt.imshow(np.abs(n_eval),\n",
    "                interpolation='bilinear',\n",
    "                aspect='auto',\n",
    "                origin='lower',\n",
    "                extent=extension)"
   ]
  },
  {
   "cell_type": "code",
   "execution_count": 26,
   "metadata": {},
   "outputs": [
    {
     "name": "stdout",
     "output_type": "stream",
     "text": [
      "[0.88871565+0.j 0.88874079+0.j 0.88876595+0.j ... 1.03610593+0.j\n",
      " 1.05002802+0.j 1.07094008+0.j]\n"
     ]
    }
   ],
   "source": [
    "print(n_eval[:, 0])"
   ]
  },
  {
   "cell_type": "code",
   "execution_count": null,
   "metadata": {},
   "outputs": [],
   "source": [
    "#Create a source plane wave\n",
    "u0 = np.ones((x0.shape), dtype = np.complex128)\n",
    "Ek = np.fft.fftshift(np.fft.fft(u))\n",
    "H = np.exp(1j * 1 * mm * csqrt())\n"
   ]
  },
  {
   "cell_type": "markdown",
   "metadata": {},
   "source": [
    "Plot the results"
   ]
  },
  {
   "cell_type": "code",
   "execution_count": null,
   "metadata": {},
   "outputs": [],
   "source": [
    "#Perform the calculation with the wave propagation method\n",
    "t0.WPM(verbose=True, has_edges=False)"
   ]
  },
  {
   "cell_type": "code",
   "execution_count": null,
   "metadata": {},
   "outputs": [],
   "source": [
    "t0.draw(kind='intensity', draw_borders=True)"
   ]
  },
  {
   "cell_type": "code",
   "execution_count": null,
   "metadata": {},
   "outputs": [],
   "source": [
    "t0.draw(kind='phase', draw_borders=True)"
   ]
  },
  {
   "cell_type": "code",
   "execution_count": null,
   "metadata": {},
   "outputs": [],
   "source": [
    "u_field_last_plane = t0.profile_transversal(z0= 3 * um, normalize = 'maximum')\n",
    "wave_ax = plt.gca()\n",
    "wave_fig = plt.gcf()\n",
    "plt.xlim([-0.08, 0.08])"
   ]
  },
  {
   "cell_type": "markdown",
   "metadata": {},
   "source": [
    "I might also be good to get an interference pattern with RayLeigh Sommerfeld method (this does not work for now)"
   ]
  },
  {
   "cell_type": "code",
   "execution_count": null,
   "metadata": {},
   "outputs": [],
   "source": [
    "u1 = t0.n[:, np.argmin(abs(z0)-z0)]\n",
    "t1 = Scalar_mask_X(x0, wavelength)\n",
    "t1.u = u1\n",
    "u1 = t1 * u0\n",
    "\n",
    "u2 = u1.RS(z=3 * um, new_field = True)\n",
    "\n",
    "#plt.figure()\n",
    "#plt.plot(x0, np.abs(u2.u))"
   ]
  }
 ],
 "metadata": {
  "kernelspec": {
   "display_name": "TEMGYMAdvanced",
   "language": "python",
   "name": "python3"
  },
  "language_info": {
   "codemirror_mode": {
    "name": "ipython",
    "version": 3
   },
   "file_extension": ".py",
   "mimetype": "text/x-python",
   "name": "python",
   "nbconvert_exporter": "python",
   "pygments_lexer": "ipython3",
   "version": "3.10.6"
  },
  "orig_nbformat": 4
 },
 "nbformat": 4,
 "nbformat_minor": 2
}
